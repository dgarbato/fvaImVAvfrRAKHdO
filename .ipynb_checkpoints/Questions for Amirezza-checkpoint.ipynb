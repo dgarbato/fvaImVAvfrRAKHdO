{
 "cells": [
  {
   "cell_type": "markdown",
   "id": "24cad9e4",
   "metadata": {},
   "source": [
    "**When do you want to import an entire module and when dod you not?**\n"
   ]
  },
  {
   "cell_type": "code",
   "execution_count": null,
   "id": "521e28ac",
   "metadata": {},
   "outputs": [],
   "source": [
    "import math          # import the math module\n",
    "math.factorial(5)    # factorial of 5"
   ]
  },
  {
   "cell_type": "code",
   "execution_count": null,
   "id": "670d91f1",
   "metadata": {},
   "outputs": [],
   "source": [
    "import math as ma # can assign an alias for module name\n",
    "ma.factorial(5)"
   ]
  },
  {
   "cell_type": "code",
   "execution_count": null,
   "id": "3a6ed629",
   "metadata": {},
   "outputs": [],
   "source": [
    "from math import sin,cos\n",
    "theta=3.14/6\n",
    "print(sin(theta),cos(theta))"
   ]
  },
  {
   "cell_type": "code",
   "execution_count": null,
   "id": "8ab5360a",
   "metadata": {},
   "outputs": [],
   "source": [
    "import math as ma # can assign an alias for module name\n",
    "ma.factorial(5)"
   ]
  },
  {
   "cell_type": "markdown",
   "id": "5c8392ac",
   "metadata": {},
   "source": [
    "**Is this Syntactic note only true for strings?**\n",
    "\n",
    "Syntactic note: Python does not have any special terminating character, so everything must be enterd on one line. If the line is too long it may be split up by enclosing the expression in parenthesis or by adding a \\ at the end. The is done as follows:"
   ]
  },
  {
   "cell_type": "code",
   "execution_count": null,
   "id": "d2bd3395",
   "metadata": {},
   "outputs": [],
   "source": [
    "use of tab key"
   ]
  },
  {
   "cell_type": "code",
   "execution_count": 1,
   "id": "1de23d53",
   "metadata": {},
   "outputs": [
    {
     "name": "stdout",
     "output_type": "stream",
     "text": [
      "[]\n"
     ]
    }
   ],
   "source": [
    "# Why does this return the empty list?\n",
    "print(list(range(15, 10)))"
   ]
  },
  {
   "cell_type": "markdown",
   "id": "25a57551",
   "metadata": {},
   "source": [
    "What is lexicographic order example?"
   ]
  },
  {
   "cell_type": "markdown",
   "id": "3c3d02c6",
   "metadata": {},
   "source": [
    "List comprehension and lambda functions"
   ]
  },
  {
   "cell_type": "markdown",
   "id": "6a7aafc4",
   "metadata": {},
   "source": [
    "What is an IDE?"
   ]
  },
  {
   "cell_type": "markdown",
   "id": "e80c1ec4",
   "metadata": {},
   "source": [
    "When do you use iter() and next()"
   ]
  },
  {
   "cell_type": "code",
   "execution_count": null,
   "id": "cf4b7b20",
   "metadata": {},
   "outputs": [],
   "source": []
  }
 ],
 "metadata": {
  "kernelspec": {
   "display_name": "Python 3 (ipykernel)",
   "language": "python",
   "name": "python3"
  },
  "language_info": {
   "codemirror_mode": {
    "name": "ipython",
    "version": 3
   },
   "file_extension": ".py",
   "mimetype": "text/x-python",
   "name": "python",
   "nbconvert_exporter": "python",
   "pygments_lexer": "ipython3",
   "version": "3.9.7"
  }
 },
 "nbformat": 4,
 "nbformat_minor": 5
}
