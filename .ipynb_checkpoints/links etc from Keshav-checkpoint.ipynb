{
 "cells": [
  {
   "cell_type": "code",
   "execution_count": 1,
   "id": "348b4a2c",
   "metadata": {},
   "outputs": [],
   "source": [
    "### Remove special characters \n",
    "\n",
    "def remove_special_characters_keep_spaces(input_string):\n",
    "    # Initialize an empty string to store the result\n",
    "    result_string = \"\"\n",
    "\n",
    "    # Iterate through each character in the input string\n",
    "    for char in input_string:\n",
    "        # Check if the character is alphanumeric or a space\n",
    "        if char.isalnum() or char.isspace():\n",
    "            # If alphanumeric or space, add it to the result string\n",
    "            result_string += char\n",
    "    \n",
    "    # Replace consecutive spaces with a single space\n",
    "    result_string = ' '.join(result_string.split())\n",
    "\n",
    "    return result_string"
   ]
  },
  {
   "cell_type": "code",
   "execution_count": 3,
   "id": "9a7d027a",
   "metadata": {},
   "outputs": [],
   "source": [
    "test_string = 'native english teacher epik (english program korea)'"
   ]
  },
  {
   "cell_type": "code",
   "execution_count": 4,
   "id": "75752f60",
   "metadata": {},
   "outputs": [
    {
     "data": {
      "text/plain": [
       "'native english teacher epik english program korea'"
      ]
     },
     "execution_count": 4,
     "metadata": {},
     "output_type": "execute_result"
    }
   ],
   "source": [
    "# test function\n",
    "\n",
    "remove_special_characters_keep_spaces(test_string)"
   ]
  },
  {
   "cell_type": "markdown",
   "id": "fbbb9336",
   "metadata": {},
   "source": [
    "From keshav 2-2-24\n",
    "\n",
    "https://jalammar.github.io/illustrated-transformer/\n",
    "\n",
    "keshav somani\n",
    "8:59 AM\n",
    "https://www.deeplearningbook.org/"
   ]
  },
  {
   "cell_type": "markdown",
   "id": "01d29727",
   "metadata": {},
   "source": [
    "https://huggingface.co/sentence-transformers"
   ]
  },
  {
   "cell_type": "markdown",
   "id": "39e15c61",
   "metadata": {},
   "source": [
    "# Lambdarank keshav 2-9-24"
   ]
  },
  {
   "cell_type": "markdown",
   "id": "798d5fef",
   "metadata": {},
   "source": [
    "--keshav somani\n",
    "\n",
    "## BERT\n",
    "\n",
    "https://huggingface.co/sentence-transformers\n",
    "\n",
    "https://huggingface.co/lxyuan/distilbert-base-multilingual-cased-sentiments-student\n",
    "\n",
    "## lamdarank\n",
    "\n",
    "https://medium.com/@nikhilbd/intuitive-explanation-of-learning-to-rank-and-ranknet-lambdarank-and-lambdamart-fe1e17fac418\n",
    "\n",
    "https://medium.datadriveninvestor.com/a-practical-guide-to-lambdamart-in-lightgbm-f16a57864f6\n",
    "\n",
    "https://lightgbm.readthedocs.io/en/latest/pythonapi/lightgbm.LGBMRanker.html\n",
    "\n",
    "https://tamaracucumides.medium.com/learning-to-rank-with-lightgbm-code-example-in-python-843bd7b44574\n",
    "    \n",
    "https://stackoverflow.com/questions/64294962/how-to-implement-learning-to-rank-using-lightgbm"
   ]
  },
  {
   "cell_type": "raw",
   "id": "fd5398be",
   "metadata": {},
   "source": [
    "learning to rank in python\n",
    "lambdarank, lambdamart , ranknet"
   ]
  },
  {
   "cell_type": "markdown",
   "id": "5b626146",
   "metadata": {},
   "source": [
    "https://www.coursera.org/specializations/deep-learning?\n",
    "    \n",
    "https://www.coursera.org/specializations/deep-learning\n",
    "    \n",
    "https://medium.com/swlh/ranknet-factorised-ranknet-lambdarank-explained-implementation-via-tensorflow-2-0-part-i-1e71d8923132\n"
   ]
  },
  {
   "cell_type": "markdown",
   "id": "f4a23a10",
   "metadata": {},
   "source": [
    "## from 12-15-23\n",
    "\n",
    "## google shap  \n",
    "\n",
    "**it tells how each feature is impacting your target variable in a model**"
   ]
  },
  {
   "cell_type": "markdown",
   "id": "2fbe163f",
   "metadata": {},
   "source": [
    "# neural networks\n",
    "\n",
    "https://www.analyticsvidhya.com/blog/2020/07/neural-networks-from-scratch-in-python-and-r/"
   ]
  },
  {
   "cell_type": "markdown",
   "id": "a08cbaec",
   "metadata": {},
   "source": [
    "# keshav from 12-15-23  learning neural nets resources\n",
    "\n",
    "https://www.deeplearning.ai/courses/\n",
    "    \n",
    "keshav from 12-15-23\n",
    "\n",
    "https://www.youtube.com/watch?v=QDX-1M5Nj7s&list=PLtBw6njQRU-rwp5__7C0oIVt26ZgjG9NI&index=1"
   ]
  },
  {
   "cell_type": "markdown",
   "id": "3c778d78",
   "metadata": {},
   "source": [
    "# blogs on transformer and BERT 1-4-24\n",
    "\n",
    "\n",
    "http://jalammar.github.io/illustrated-transformer/\n",
    "    \n",
    "http://jalammar.github.io/illustrated-bert/"
   ]
  },
  {
   "cell_type": "code",
   "execution_count": null,
   "id": "2c1e4655",
   "metadata": {},
   "outputs": [],
   "source": []
  }
 ],
 "metadata": {
  "kernelspec": {
   "display_name": "Python 3 (ipykernel)",
   "language": "python",
   "name": "python3"
  },
  "language_info": {
   "codemirror_mode": {
    "name": "ipython",
    "version": 3
   },
   "file_extension": ".py",
   "mimetype": "text/x-python",
   "name": "python",
   "nbconvert_exporter": "python",
   "pygments_lexer": "ipython3",
   "version": "3.9.7"
  }
 },
 "nbformat": 4,
 "nbformat_minor": 5
}
