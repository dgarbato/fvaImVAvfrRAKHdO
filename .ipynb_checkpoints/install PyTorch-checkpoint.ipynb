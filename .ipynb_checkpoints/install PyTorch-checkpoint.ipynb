{
 "cells": [
  {
   "cell_type": "code",
   "execution_count": 2,
   "id": "afb0b860",
   "metadata": {},
   "outputs": [
    {
     "name": "stdout",
     "output_type": "stream",
     "text": [
      "Requirement already satisfied: torch in c:\\users\\dgarb\\anaconda3_reinstall\\lib\\site-packages (2.1.0)\n",
      "Requirement already satisfied: torchvision in c:\\users\\dgarb\\anaconda3_reinstall\\lib\\site-packages (0.16.0)\n",
      "Collecting torchaudio\n",
      "  Downloading torchaudio-2.1.0-cp39-cp39-win_amd64.whl (2.3 MB)\n",
      "Requirement already satisfied: jinja2 in c:\\users\\dgarb\\anaconda3_reinstall\\lib\\site-packages (from torch) (3.0.3)\n",
      "Requirement already satisfied: networkx in c:\\users\\dgarb\\anaconda3_reinstall\\lib\\site-packages (from torch) (2.6.3)\n",
      "Requirement already satisfied: filelock in c:\\users\\dgarb\\anaconda3_reinstall\\lib\\site-packages (from torch) (3.3.1)\n",
      "Requirement already satisfied: sympy in c:\\users\\dgarb\\anaconda3_reinstall\\lib\\site-packages (from torch) (1.9)\n",
      "Requirement already satisfied: typing-extensions in c:\\users\\dgarb\\anaconda3_reinstall\\lib\\site-packages (from torch) (4.7.1)\n",
      "Requirement already satisfied: fsspec in c:\\users\\dgarb\\anaconda3_reinstall\\lib\\site-packages (from torch) (2023.10.0)\n",
      "Requirement already satisfied: requests in c:\\users\\dgarb\\anaconda3_reinstall\\lib\\site-packages (from torchvision) (2.28.1)\n",
      "Requirement already satisfied: numpy in c:\\users\\dgarb\\anaconda3_reinstall\\lib\\site-packages (from torchvision) (1.24.4)\n",
      "Requirement already satisfied: pillow!=8.3.*,>=5.3.0 in c:\\users\\dgarb\\anaconda3_reinstall\\lib\\site-packages (from torchvision) (8.4.0)\n",
      "Requirement already satisfied: MarkupSafe>=2.0 in c:\\users\\dgarb\\anaconda3_reinstall\\lib\\site-packages (from jinja2->torch) (2.1.1)\n",
      "Requirement already satisfied: certifi>=2017.4.17 in c:\\users\\dgarb\\anaconda3_reinstall\\lib\\site-packages (from requests->torchvision) (2023.5.7)\n",
      "Requirement already satisfied: idna<4,>=2.5 in c:\\users\\dgarb\\anaconda3_reinstall\\lib\\site-packages (from requests->torchvision) (3.2)\n",
      "Requirement already satisfied: charset-normalizer<3,>=2 in c:\\users\\dgarb\\anaconda3_reinstall\\lib\\site-packages (from requests->torchvision) (2.0.4)\n",
      "Requirement already satisfied: urllib3<1.27,>=1.21.1 in c:\\users\\dgarb\\anaconda3_reinstall\\lib\\site-packages (from requests->torchvision) (1.26.7)\n",
      "Requirement already satisfied: mpmath>=0.19 in c:\\users\\dgarb\\anaconda3_reinstall\\lib\\site-packages (from sympy->torch) (1.2.1)\n",
      "Installing collected packages: torchaudio\n",
      "Successfully installed torchaudio-2.1.0\n"
     ]
    }
   ],
   "source": [
    "!pip install torch torchvision torchaudio"
   ]
  }
 ],
 "metadata": {
  "kernelspec": {
   "display_name": "Python 3 (ipykernel)",
   "language": "python",
   "name": "python3"
  },
  "language_info": {
   "codemirror_mode": {
    "name": "ipython",
    "version": 3
   },
   "file_extension": ".py",
   "mimetype": "text/x-python",
   "name": "python",
   "nbconvert_exporter": "python",
   "pygments_lexer": "ipython3",
   "version": "3.9.7"
  }
 },
 "nbformat": 4,
 "nbformat_minor": 5
}
