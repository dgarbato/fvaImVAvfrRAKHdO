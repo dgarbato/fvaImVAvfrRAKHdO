{
 "cells": [
  {
   "cell_type": "code",
   "execution_count": null,
   "id": "b9fb9d38",
   "metadata": {},
   "outputs": [],
   "source": [
    "# import sys\n",
    "# !{sys.executable} -m pip install imblearn"
   ]
  },
  {
   "cell_type": "code",
   "execution_count": 1,
   "id": "b4fe4a3e",
   "metadata": {},
   "outputs": [
    {
     "name": "stdout",
     "output_type": "stream",
     "text": [
      "Collecting kmodes\n",
      "  Using cached kmodes-0.12.2-py2.py3-none-any.whl (20 kB)\n",
      "Requirement already satisfied: numpy>=1.10.4 in c:\\users\\dgarb\\anaconda3_reinstall\\lib\\site-packages (from kmodes) (1.24.4)\n",
      "Requirement already satisfied: scikit-learn>=0.22.0 in c:\\users\\dgarb\\anaconda3_reinstall\\lib\\site-packages (from kmodes) (1.3.0)\n",
      "Requirement already satisfied: joblib>=0.11 in c:\\users\\dgarb\\anaconda3_reinstall\\lib\\site-packages (from kmodes) (1.3.1)\n",
      "Requirement already satisfied: scipy>=0.13.3 in c:\\users\\dgarb\\anaconda3_reinstall\\lib\\site-packages (from kmodes) (1.9.0)\n",
      "Requirement already satisfied: threadpoolctl>=2.0.0 in c:\\users\\dgarb\\anaconda3_reinstall\\lib\\site-packages (from scikit-learn>=0.22.0->kmodes) (3.2.0)\n",
      "Installing collected packages: kmodes\n",
      "Successfully installed kmodes-0.12.2\n"
     ]
    }
   ],
   "source": [
    "import sys\n",
    "!{sys.executable} -m pip install kmodes"
   ]
  },
  {
   "cell_type": "code",
   "execution_count": 1,
   "id": "a96d190c",
   "metadata": {
    "scrolled": true
   },
   "outputs": [
    {
     "name": "stdout",
     "output_type": "stream",
     "text": [
      "Requirement already satisfied: nltk in c:\\users\\dgarb\\anaconda3_reinstall\\lib\\site-packages (3.7)\n",
      "Requirement already satisfied: click in c:\\users\\dgarb\\anaconda3_reinstall\\lib\\site-packages (from nltk) (8.0.3)\n",
      "Requirement already satisfied: joblib in c:\\users\\dgarb\\anaconda3_reinstall\\lib\\site-packages (from nltk) (1.3.1)\n",
      "Requirement already satisfied: tqdm in c:\\users\\dgarb\\anaconda3_reinstall\\lib\\site-packages (from nltk) (4.62.3)\n",
      "Requirement already satisfied: regex>=2021.8.3 in c:\\users\\dgarb\\anaconda3_reinstall\\lib\\site-packages (from nltk) (2021.8.3)\n",
      "Requirement already satisfied: colorama in c:\\users\\dgarb\\anaconda3_reinstall\\lib\\site-packages (from click->nltk) (0.4.4)\n"
     ]
    }
   ],
   "source": [
    "import sys\n",
    "!{sys.executable} -m pip install nltk\n"
   ]
  },
  {
   "cell_type": "code",
   "execution_count": 2,
   "id": "ba22813b",
   "metadata": {},
   "outputs": [
    {
     "name": "stdout",
     "output_type": "stream",
     "text": [
      "Requirement already satisfied: textblob in c:\\users\\dgarb\\anaconda3_reinstall\\lib\\site-packages (0.17.1)\n",
      "Requirement already satisfied: nltk>=3.1 in c:\\users\\dgarb\\anaconda3_reinstall\\lib\\site-packages (from textblob) (3.7)\n",
      "Requirement already satisfied: tqdm in c:\\users\\dgarb\\anaconda3_reinstall\\lib\\site-packages (from nltk>=3.1->textblob) (4.62.3)\n",
      "Requirement already satisfied: joblib in c:\\users\\dgarb\\anaconda3_reinstall\\lib\\site-packages (from nltk>=3.1->textblob) (1.3.1)\n",
      "Requirement already satisfied: regex>=2021.8.3 in c:\\users\\dgarb\\anaconda3_reinstall\\lib\\site-packages (from nltk>=3.1->textblob) (2021.8.3)\n",
      "Requirement already satisfied: click in c:\\users\\dgarb\\anaconda3_reinstall\\lib\\site-packages (from nltk>=3.1->textblob) (8.0.3)\n",
      "Requirement already satisfied: colorama in c:\\users\\dgarb\\anaconda3_reinstall\\lib\\site-packages (from click->nltk>=3.1->textblob) (0.4.4)\n"
     ]
    }
   ],
   "source": [
    "import sys\n",
    "!{sys.executable} -m pip install textblob\n"
   ]
  },
  {
   "cell_type": "code",
   "execution_count": 3,
   "id": "e2ba79de",
   "metadata": {},
   "outputs": [
    {
     "name": "stdout",
     "output_type": "stream",
     "text": [
      "Requirement already satisfied: wordcloud in c:\\users\\dgarb\\anaconda3_reinstall\\lib\\site-packages (1.8.2.2)\n",
      "Requirement already satisfied: numpy>=1.6.1 in c:\\users\\dgarb\\anaconda3_reinstall\\lib\\site-packages (from wordcloud) (1.24.4)\n",
      "Requirement already satisfied: pillow in c:\\users\\dgarb\\anaconda3_reinstall\\lib\\site-packages (from wordcloud) (8.4.0)\n",
      "Requirement already satisfied: matplotlib in c:\\users\\dgarb\\anaconda3_reinstall\\lib\\site-packages (from wordcloud) (3.4.3)\n",
      "Requirement already satisfied: cycler>=0.10 in c:\\users\\dgarb\\anaconda3_reinstall\\lib\\site-packages (from matplotlib->wordcloud) (0.10.0)\n",
      "Requirement already satisfied: python-dateutil>=2.7 in c:\\users\\dgarb\\anaconda3_reinstall\\lib\\site-packages (from matplotlib->wordcloud) (2.8.2)\n",
      "Requirement already satisfied: kiwisolver>=1.0.1 in c:\\users\\dgarb\\anaconda3_reinstall\\lib\\site-packages (from matplotlib->wordcloud) (1.3.1)\n",
      "Requirement already satisfied: pyparsing>=2.2.1 in c:\\users\\dgarb\\anaconda3_reinstall\\lib\\site-packages (from matplotlib->wordcloud) (3.0.4)\n",
      "Requirement already satisfied: six in c:\\users\\dgarb\\anaconda3_reinstall\\lib\\site-packages (from cycler>=0.10->matplotlib->wordcloud) (1.16.0)\n"
     ]
    }
   ],
   "source": [
    "# wordcloud\n",
    "import sys\n",
    "!{sys.executable} -m pip install wordcloud\n"
   ]
  },
  {
   "cell_type": "code",
   "execution_count": 1,
   "id": "81c5642b",
   "metadata": {},
   "outputs": [
    {
     "name": "stdout",
     "output_type": "stream",
     "text": [
      "Collecting LightGBM\n",
      "  Downloading lightgbm-4.1.0-py3-none-win_amd64.whl (1.3 MB)\n",
      "Requirement already satisfied: scipy in c:\\users\\dgarb\\anaconda3_reinstall\\lib\\site-packages (from LightGBM) (1.9.0)\n",
      "Requirement already satisfied: numpy in c:\\users\\dgarb\\anaconda3_reinstall\\lib\\site-packages (from LightGBM) (1.24.4)\n",
      "Installing collected packages: LightGBM\n",
      "Successfully installed LightGBM-4.1.0\n"
     ]
    }
   ],
   "source": [
    "import sys\n",
    "!{sys.executable} -m pip install LightGBM"
   ]
  }
 ],
 "metadata": {
  "kernelspec": {
   "display_name": "Python 3 (ipykernel)",
   "language": "python",
   "name": "python3"
  },
  "language_info": {
   "codemirror_mode": {
    "name": "ipython",
    "version": 3
   },
   "file_extension": ".py",
   "mimetype": "text/x-python",
   "name": "python",
   "nbconvert_exporter": "python",
   "pygments_lexer": "ipython3",
   "version": "3.9.7"
  }
 },
 "nbformat": 4,
 "nbformat_minor": 5
}
